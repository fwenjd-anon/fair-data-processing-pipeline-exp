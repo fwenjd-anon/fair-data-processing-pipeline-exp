{
 "cells": [
  {
   "cell_type": "code",
   "execution_count": null,
   "metadata": {},
   "outputs": [],
   "source": [
    "import pandas as pd\n",
    "import random,time,csv\n",
    "import numpy as np\n",
    "import math,copy,os\n",
    "from sklearn.linear_model import LogisticRegression\n",
    "from sklearn.tree import DecisionTreeRegressor\n",
    "from sklearn.model_selection import train_test_split\n",
    "from sklearn.metrics import classification_report, confusion_matrix, accuracy_score\n",
    "from sklearn import tree\n",
    "from sklearn.naive_bayes import GaussianNB\n",
    "from sklearn.ensemble import RandomForestClassifier\n",
    "from sklearn.svm import SVC\n",
    "import sklearn.metrics as metrics\n",
    "\n",
    "\n",
    "import sys\n",
    "sys.path.append(os.path.abspath('..'))\n",
    "\n",
    "from SMOTE import smote\n",
    "from Measure import measure_final_score,calculate_recall,calculate_far,calculate_precision,calculate_accuracy\n",
    "from Generate_Samples import generate_samples"
   ]
  },
  {
   "cell_type": "markdown",
   "metadata": {},
   "source": [
    "# Load Dataset"
   ]
  },
  {
   "cell_type": "code",
   "execution_count": null,
   "metadata": {},
   "outputs": [],
   "source": [
    "## Load dataset\n",
    "from sklearn import preprocessing\n",
    "dataset_orig = pd.read_csv('../data/adult.data.csv')\n",
    "\n",
    "## Drop NULL values\n",
    "dataset_orig = dataset_orig.dropna()\n",
    "\n",
    "## Drop categorical features\n",
    "dataset_orig = dataset_orig.drop(['workclass','fnlwgt','education','marital-status','occupation','relationship','native-country'],axis=1)\n",
    "\n",
    "## Change symbolics to numerics\n",
    "dataset_orig['sex'] = np.where(dataset_orig['sex'] == ' Male', 1, 0)\n",
    "dataset_orig['race'] = np.where(dataset_orig['race'] != ' White', 0, 1)\n",
    "dataset_orig['Probability'] = np.where(dataset_orig['Probability'] == ' <=50K', 0, 1)\n",
    "\n",
    "\n",
    "## Discretize age\n",
    "dataset_orig['age'] = np.where(dataset_orig['age'] >= 70, 70, dataset_orig['age'])\n",
    "dataset_orig['age'] = np.where((dataset_orig['age'] >= 60 ) & (dataset_orig['age'] < 70), 60, dataset_orig['age'])\n",
    "dataset_orig['age'] = np.where((dataset_orig['age'] >= 50 ) & (dataset_orig['age'] < 60), 50, dataset_orig['age'])\n",
    "dataset_orig['age'] = np.where((dataset_orig['age'] >= 40 ) & (dataset_orig['age'] < 50), 40, dataset_orig['age'])\n",
    "dataset_orig['age'] = np.where((dataset_orig['age'] >= 30 ) & (dataset_orig['age'] < 40), 30, dataset_orig['age'])\n",
    "dataset_orig['age'] = np.where((dataset_orig['age'] >= 20 ) & (dataset_orig['age'] < 30), 20, dataset_orig['age'])\n",
    "dataset_orig['age'] = np.where((dataset_orig['age'] >= 10 ) & (dataset_orig['age'] < 10), 10, dataset_orig['age'])\n",
    "dataset_orig['age'] = np.where(dataset_orig['age'] < 10, 0, dataset_orig['age'])\n",
    "\n",
    "protected_attribute1 = 'sex'\n",
    "protected_attribute2 = 'race'\n",
    "\n",
    "from sklearn.preprocessing import MinMaxScaler\n",
    "\n",
    "scaler = MinMaxScaler()\n",
    "dataset_orig = pd.DataFrame(scaler.fit_transform(dataset_orig),columns = dataset_orig.columns)\n",
    "\n",
    "\n",
    "dataset_orig_train, dataset_orig_test = train_test_split(dataset_orig, test_size=0.2, shuffle = True)\n",
    "# dataset_orig"
   ]
  },
  {
   "cell_type": "markdown",
   "metadata": {},
   "source": [
    "# Check Original Score - Sex"
   ]
  },
  {
   "cell_type": "code",
   "execution_count": null,
   "metadata": {
    "scrolled": true
   },
   "outputs": [],
   "source": [
    "X_train, y_train = dataset_orig_train.loc[:, dataset_orig_train.columns != 'Probability'], dataset_orig_train['Probability']\n",
    "X_test , y_test = dataset_orig_test.loc[:, dataset_orig_test.columns != 'Probability'], dataset_orig_test['Probability']\n",
    "\n",
    "clf = LogisticRegression(C=1.0, penalty='l2', solver='liblinear', max_iter=100) # LSR\n",
    "\n",
    "print(\"recall :\", measure_final_score(dataset_orig_test, clf, X_train, y_train, X_test, y_test, protected_attribute1, 'recall'))\n",
    "print(\"far :\",measure_final_score(dataset_orig_test, clf, X_train, y_train, X_test, y_test, protected_attribute1, 'far'))\n",
    "print(\"precision :\", measure_final_score(dataset_orig_test, clf, X_train, y_train, X_test, y_test, protected_attribute1, 'precision'))\n",
    "print(\"accuracy :\",measure_final_score(dataset_orig_test, clf, X_train, y_train, X_test, y_test, protected_attribute1, 'accuracy'))\n",
    "print(\"F1 Score :\",measure_final_score(dataset_orig_test, clf, X_train, y_train, X_test, y_test, protected_attribute1, 'F1'))\n",
    "print(\"aod :\"+protected_attribute1,measure_final_score(dataset_orig_test, clf, X_train, y_train, X_test, y_test, protected_attribute1, 'aod'))\n",
    "print(\"eod :\"+protected_attribute1,measure_final_score(dataset_orig_test, clf, X_train, y_train, X_test, y_test, protected_attribute1, 'eod'))\n",
    "\n",
    "print(\"SPD:\",measure_final_score(dataset_orig_test, clf, X_train, y_train, X_test, y_test, protected_attribute1, 'SPD'))\n",
    "print(\"DI:\",measure_final_score(dataset_orig_test, clf, X_train, y_train, X_test, y_test, protected_attribute1, 'DI'))"
   ]
  },
  {
   "cell_type": "markdown",
   "metadata": {},
   "source": [
    "# Check Original Score - Race"
   ]
  },
  {
   "cell_type": "code",
   "execution_count": null,
   "metadata": {},
   "outputs": [],
   "source": [
    "X_train, y_train = dataset_orig_train.loc[:, dataset_orig_train.columns != 'Probability'], dataset_orig_train['Probability']\n",
    "X_test , y_test = dataset_orig_test.loc[:, dataset_orig_test.columns != 'Probability'], dataset_orig_test['Probability']\n",
    "\n",
    "clf = LogisticRegression(C=1.0, penalty='l2', solver='liblinear', max_iter=100) # LSR\n",
    "\n",
    "print(\"recall :\", measure_final_score(dataset_orig_test, clf, X_train, y_train, X_test, y_test, protected_attribute2, 'recall'))\n",
    "print(\"far :\",measure_final_score(dataset_orig_test, clf, X_train, y_train, X_test, y_test, protected_attribute2, 'far'))\n",
    "print(\"precision :\", measure_final_score(dataset_orig_test, clf, X_train, y_train, X_test, y_test, protected_attribute2, 'precision'))\n",
    "print(\"accuracy :\",measure_final_score(dataset_orig_test, clf, X_train, y_train, X_test, y_test, protected_attribute2, 'accuracy'))\n",
    "print(\"F1 Score :\",measure_final_score(dataset_orig_test, clf, X_train, y_train, X_test, y_test, protected_attribute2, 'F1'))\n",
    "print(\"aod :\"+protected_attribute2,measure_final_score(dataset_orig_test, clf, X_train, y_train, X_test, y_test, protected_attribute2, 'aod'))\n",
    "print(\"eod :\"+protected_attribute2,measure_final_score(dataset_orig_test, clf, X_train, y_train, X_test, y_test, protected_attribute2, 'eod'))\n",
    "\n",
    "print(\"SPD:\",measure_final_score(dataset_orig_test, clf, X_train, y_train, X_test, y_test, protected_attribute2, 'SPD'))\n",
    "print(\"DI:\",measure_final_score(dataset_orig_test, clf, X_train, y_train, X_test, y_test, protected_attribute2, 'DI'))"
   ]
  },
  {
   "cell_type": "markdown",
   "metadata": {},
   "source": [
    "# Find Class & Protected attribute Distribution"
   ]
  },
  {
   "cell_type": "code",
   "execution_count": null,
   "metadata": {},
   "outputs": [],
   "source": [
    "# first one is class value and second one is 'sex' and third one is 'race'\n",
    "zero_zero_zero = len(dataset_orig_train[(dataset_orig_train['Probability'] == 0) & (dataset_orig_train[protected_attribute1] == 0)\n",
    "                                       & (dataset_orig_train[protected_attribute2] == 0)])\n",
    "zero_zero_one = len(dataset_orig_train[(dataset_orig_train['Probability'] == 0) & (dataset_orig_train[protected_attribute1] == 0)\n",
    "                                       & (dataset_orig_train[protected_attribute2] == 1)])\n",
    "zero_one_zero = len(dataset_orig_train[(dataset_orig_train['Probability'] == 0) & (dataset_orig_train[protected_attribute1] == 1)\n",
    "                                       & (dataset_orig_train[protected_attribute2] == 0)])\n",
    "zero_one_one = len(dataset_orig_train[(dataset_orig_train['Probability'] == 0) & (dataset_orig_train[protected_attribute1] == 1)\n",
    "                                       & (dataset_orig_train[protected_attribute2] == 1)])\n",
    "one_zero_zero = len(dataset_orig_train[(dataset_orig_train['Probability'] == 1) & (dataset_orig_train[protected_attribute1] == 0)\n",
    "                                       & (dataset_orig_train[protected_attribute2] == 0)])\n",
    "one_zero_one = len(dataset_orig_train[(dataset_orig_train['Probability'] == 1) & (dataset_orig_train[protected_attribute1] == 0)\n",
    "                                       & (dataset_orig_train[protected_attribute2] == 1)])\n",
    "one_one_zero = len(dataset_orig_train[(dataset_orig_train['Probability'] == 1) & (dataset_orig_train[protected_attribute1] == 1)\n",
    "                                       & (dataset_orig_train[protected_attribute2] == 0)])\n",
    "one_one_one = len(dataset_orig_train[(dataset_orig_train['Probability'] == 1) & (dataset_orig_train[protected_attribute1] == 1)\n",
    "                                       & (dataset_orig_train[protected_attribute2] == 1)])\n",
    "\n",
    "\n",
    "print(zero_zero_zero,zero_zero_one,zero_one_zero,zero_one_one,one_zero_zero,one_zero_one,one_one_zero,one_one_one)"
   ]
  },
  {
   "cell_type": "markdown",
   "metadata": {},
   "source": [
    "# Sort these four"
   ]
  },
  {
   "cell_type": "code",
   "execution_count": null,
   "metadata": {},
   "outputs": [],
   "source": [
    "maximum = max(zero_zero_zero,zero_zero_one,zero_one_zero,zero_one_one,one_zero_zero,one_zero_one,one_one_zero,one_one_one)\n",
    "if maximum == zero_zero_zero:\n",
    "    print(\"zero_zero_zero is maximum\")\n",
    "if maximum == zero_zero_one:\n",
    "    print(\"zero_zero_one is maximum\")\n",
    "if maximum == zero_one_zero:\n",
    "    print(\"zero_one_zero is maximum\")\n",
    "if maximum == zero_one_one:\n",
    "    print(\"zero_one_one is maximum\")\n",
    "if maximum == one_zero_zero:\n",
    "    print(\"one_zero_zero is maximum\")\n",
    "if maximum == one_zero_one:\n",
    "    print(\"one_zero_one is maximum\")\n",
    "if maximum == one_one_zero:\n",
    "    print(\"one_one_zero is maximum\")\n",
    "if maximum == one_one_one:\n",
    "    print(\"one_one_one is maximum\")"
   ]
  },
  {
   "cell_type": "code",
   "execution_count": null,
   "metadata": {},
   "outputs": [],
   "source": [
    "zero_zero_zero_to_be_incresed = maximum - zero_zero_zero\n",
    "zero_zero_one_to_be_incresed = maximum - zero_zero_one\n",
    "zero_one_zero_to_be_incresed = maximum - zero_one_zero\n",
    "zero_one_one_to_be_incresed = maximum - zero_one_one\n",
    "one_zero_zero_to_be_incresed = maximum - one_zero_zero\n",
    "one_zero_one_to_be_incresed = maximum - one_zero_one\n",
    "one_one_zero_to_be_incresed = maximum - one_one_zero\n",
    "one_one_one_to_be_incresed = maximum - one_one_one\n",
    "\n",
    "print(zero_zero_zero_to_be_incresed,zero_zero_one_to_be_incresed,zero_one_zero_to_be_incresed,zero_one_one_to_be_incresed,\n",
    "     one_zero_zero_to_be_incresed,one_zero_one_to_be_incresed,one_one_zero_to_be_incresed,one_one_one_to_be_incresed)"
   ]
  },
  {
   "cell_type": "code",
   "execution_count": null,
   "metadata": {},
   "outputs": [],
   "source": [
    "df_zero_zero_zero = dataset_orig_train[(dataset_orig_train['Probability'] == 0) & (dataset_orig_train[protected_attribute1] == 0)\n",
    "                                       & (dataset_orig_train[protected_attribute2] == 0)]\n",
    "df_zero_zero_one = dataset_orig_train[(dataset_orig_train['Probability'] == 0) & (dataset_orig_train[protected_attribute1] == 0)\n",
    "                                       & (dataset_orig_train[protected_attribute2] == 1)]\n",
    "df_zero_one_zero = dataset_orig_train[(dataset_orig_train['Probability'] == 0) & (dataset_orig_train[protected_attribute1] == 1)\n",
    "                                       & (dataset_orig_train[protected_attribute2] == 0)]\n",
    "df_zero_one_one = dataset_orig_train[(dataset_orig_train['Probability'] == 0) & (dataset_orig_train[protected_attribute1] == 1)\n",
    "                                       & (dataset_orig_train[protected_attribute2] == 1)]\n",
    "df_one_zero_zero = dataset_orig_train[(dataset_orig_train['Probability'] == 1) & (dataset_orig_train[protected_attribute1] == 0)\n",
    "                                       & (dataset_orig_train[protected_attribute2] == 0)]\n",
    "df_one_zero_one = dataset_orig_train[(dataset_orig_train['Probability'] == 1) & (dataset_orig_train[protected_attribute1] == 0)\n",
    "                                       & (dataset_orig_train[protected_attribute2] == 1)]\n",
    "df_one_one_zero = dataset_orig_train[(dataset_orig_train['Probability'] == 1) & (dataset_orig_train[protected_attribute1] == 1)\n",
    "                                       & (dataset_orig_train[protected_attribute2] == 0)]\n",
    "df_one_one_one = dataset_orig_train[(dataset_orig_train['Probability'] == 1) & (dataset_orig_train[protected_attribute1] == 1)\n",
    "                                       & (dataset_orig_train[protected_attribute2] == 1)]\n",
    "\n",
    "\n",
    "df_zero_zero_zero['race'] = df_zero_zero_zero['race'].astype(str)\n",
    "df_zero_zero_zero['sex'] = df_zero_zero_zero['sex'].astype(str)\n",
    "\n",
    "df_zero_zero_one['race'] = df_zero_zero_one['race'].astype(str)\n",
    "df_zero_zero_one['sex'] = df_zero_zero_one['sex'].astype(str)\n",
    "\n",
    "df_zero_one_zero['race'] = df_zero_one_zero['race'].astype(str)\n",
    "df_zero_one_zero['sex'] = df_zero_one_zero['sex'].astype(str)\n",
    "\n",
    "df_zero_one_one['race'] = df_zero_one_one['race'].astype(str)\n",
    "df_zero_one_one['sex'] = df_zero_one_one['sex'].astype(str)\n",
    "\n",
    "df_one_zero_zero['race'] = df_one_zero_zero['race'].astype(str)\n",
    "df_one_zero_zero['sex'] = df_one_zero_zero['sex'].astype(str)\n",
    "\n",
    "df_one_zero_one['race'] = df_one_zero_one['race'].astype(str)\n",
    "df_one_zero_one['sex'] = df_one_zero_one['sex'].astype(str)\n",
    "\n",
    "df_one_one_zero['race'] = df_one_one_zero['race'].astype(str)\n",
    "df_one_one_zero['sex'] = df_one_one_zero['sex'].astype(str)\n",
    "\n",
    "df_one_one_one['race'] = df_one_one_one['race'].astype(str)\n",
    "df_one_one_one['sex'] = df_one_one_one['sex'].astype(str)\n",
    "\n",
    "\n",
    "df_zero_zero_zero = generate_samples(zero_zero_zero_to_be_incresed,df_zero_zero_zero,'Adult')\n",
    "df_zero_zero_one = generate_samples(zero_zero_one_to_be_incresed,df_zero_zero_one,'Adult')\n",
    "df_zero_one_zero = generate_samples(zero_one_zero_to_be_incresed,df_zero_one_zero,'Adult')\n",
    "df_zero_one_one = generate_samples(zero_one_one_to_be_incresed,df_zero_one_one,'Adult')\n",
    "df_one_zero_zero = generate_samples(one_zero_zero_to_be_incresed,df_one_zero_zero,'Adult')\n",
    "df_one_zero_one = generate_samples(one_zero_one_to_be_incresed,df_one_zero_one,'Adult')\n",
    "df_one_one_zero = generate_samples(one_one_zero_to_be_incresed,df_one_one_zero,'Adult')\n",
    "df_one_one_one = generate_samples(one_one_one_to_be_incresed,df_one_one_one,'Adult')"
   ]
  },
  {
   "cell_type": "markdown",
   "metadata": {},
   "source": [
    "# Append the dataframes"
   ]
  },
  {
   "cell_type": "code",
   "execution_count": null,
   "metadata": {},
   "outputs": [],
   "source": [
    "df = pd.concat([df_zero_zero_zero,df_zero_zero_one,df_zero_one_zero,df_zero_one_one,\n",
    "df_one_zero_zero,df_one_zero_one,df_one_one_zero,df_one_one_one])\n",
    "df"
   ]
  },
  {
   "cell_type": "markdown",
   "metadata": {},
   "source": [
    "# Check Score after oversampling"
   ]
  },
  {
   "cell_type": "code",
   "execution_count": null,
   "metadata": {},
   "outputs": [],
   "source": [
    "X_train, y_train = df.loc[:, df.columns != 'Probability'], df['Probability']\n",
    "X_test , y_test = dataset_orig_test.loc[:, dataset_orig_test.columns != 'Probability'], dataset_orig_test['Probability']\n",
    "\n",
    "clf = LogisticRegression(C=1.0, penalty='l2', solver='liblinear', max_iter=100) # LSR\n",
    "\n",
    "\n",
    "print(\"recall :\", measure_final_score(dataset_orig_test, clf, X_train, y_train, X_test, y_test, protected_attribute1, 'recall'))\n",
    "print(\"far :\",measure_final_score(dataset_orig_test, clf, X_train, y_train, X_test, y_test, protected_attribute1, 'far'))\n",
    "print(\"precision :\", measure_final_score(dataset_orig_test, clf, X_train, y_train, X_test, y_test, protected_attribute1, 'precision'))\n",
    "print(\"accuracy :\",measure_final_score(dataset_orig_test, clf, X_train, y_train, X_test, y_test, protected_attribute1, 'accuracy'))\n",
    "print(\"F1 Score :\",measure_final_score(dataset_orig_test, clf, X_train, y_train, X_test, y_test, protected_attribute1, 'F1'))\n",
    "print(\"aod :\"+protected_attribute1,measure_final_score(dataset_orig_test, clf, X_train, y_train, X_test, y_test, protected_attribute1, 'aod'))\n",
    "print(\"eod :\"+protected_attribute1,measure_final_score(dataset_orig_test, clf, X_train, y_train, X_test, y_test, protected_attribute1, 'eod'))\n",
    "\n",
    "print(\"SPD:\",measure_final_score(dataset_orig_test, clf, X_train, y_train, X_test, y_test, protected_attribute1, 'SPD'))\n",
    "print(\"DI:\",measure_final_score(dataset_orig_test, clf, X_train, y_train, X_test, y_test, protected_attribute1, 'DI'))\n",
    "\n",
    "print(\"-------------\")\n",
    "\n",
    "print(\"recall :\", measure_final_score(dataset_orig_test, clf, X_train, y_train, X_test, y_test, protected_attribute2, 'recall'))\n",
    "print(\"far :\",measure_final_score(dataset_orig_test, clf, X_train, y_train, X_test, y_test, protected_attribute2, 'far'))\n",
    "print(\"precision :\", measure_final_score(dataset_orig_test, clf, X_train, y_train, X_test, y_test, protected_attribute2, 'precision'))\n",
    "print(\"accuracy :\",measure_final_score(dataset_orig_test, clf, X_train, y_train, X_test, y_test, protected_attribute2, 'accuracy'))\n",
    "print(\"F1 Score :\",measure_final_score(dataset_orig_test, clf, X_train, y_train, X_test, y_test, protected_attribute2, 'F1'))\n",
    "print(\"aod :\"+protected_attribute2,measure_final_score(dataset_orig_test, clf, X_train, y_train, X_test, y_test, protected_attribute2, 'aod'))\n",
    "print(\"eod :\"+protected_attribute2,measure_final_score(dataset_orig_test, clf, X_train, y_train, X_test, y_test, protected_attribute2, 'eod'))\n",
    "\n",
    "print(\"SPD:\",measure_final_score(dataset_orig_test, clf, X_train, y_train, X_test, y_test, protected_attribute2, 'SPD'))\n",
    "print(\"DI:\",measure_final_score(dataset_orig_test, clf, X_train, y_train, X_test, y_test, protected_attribute2, 'DI'))"
   ]
  },
  {
   "cell_type": "markdown",
   "metadata": {},
   "source": [
    "# Verification "
   ]
  },
  {
   "cell_type": "code",
   "execution_count": null,
   "metadata": {},
   "outputs": [],
   "source": [
    "zero_zero_zero = len(df[(df['Probability'] == 0) & (df[protected_attribute1] == '0.0')\n",
    "                                       & (df[protected_attribute2] == '0.0')])\n",
    "zero_zero_one = len(df[(df['Probability'] == 0) & (df[protected_attribute1] == '0.0')\n",
    "                                       & (df[protected_attribute2] == '1.0')])\n",
    "zero_one_zero = len(df[(df['Probability'] == 0) & (df[protected_attribute1] == '1.0')\n",
    "                                       & (df[protected_attribute2] == '0.0')])\n",
    "zero_one_one = len(df[(df['Probability'] == 0) & (df[protected_attribute1] == '1.0')\n",
    "                                       & (df[protected_attribute2] == '1.0')])\n",
    "one_zero_zero = len(df[(df['Probability'] == 1) & (df[protected_attribute1] == '0.0')\n",
    "                                       & (df[protected_attribute2] == '0.0')])\n",
    "one_zero_one = len(df[(df['Probability'] == 1) & (df[protected_attribute1] == '0.0')\n",
    "                                       & (df[protected_attribute2] == '1.0')])\n",
    "one_one_zero = len(df[(df['Probability'] == 1) & (df[protected_attribute1] == '1.0')\n",
    "                                       & (df[protected_attribute2] == '0.0')])\n",
    "one_one_one = len(df[(df['Probability'] == 1) & (df[protected_attribute1] == '1.0')\n",
    "                                       & (df[protected_attribute2] == '1.0')])\n",
    "\n",
    "\n",
    "print(zero_zero_zero,zero_zero_one,zero_one_zero,zero_one_one,one_zero_zero,one_zero_one,one_one_zero,one_one_one)"
   ]
  },
  {
   "cell_type": "code",
   "execution_count": null,
   "metadata": {},
   "outputs": [],
   "source": []
  }
 ],
 "metadata": {
  "kernelspec": {
   "display_name": "Python 3",
   "language": "python",
   "name": "python3"
  },
  "language_info": {
   "codemirror_mode": {
    "name": "ipython",
    "version": 3
   },
   "file_extension": ".py",
   "mimetype": "text/x-python",
   "name": "python",
   "nbconvert_exporter": "python",
   "pygments_lexer": "ipython3",
   "version": "3.6.4"
  }
 },
 "nbformat": 4,
 "nbformat_minor": 2
}
